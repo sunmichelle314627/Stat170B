{
 "cells": [
  {
   "cell_type": "code",
   "execution_count": 1,
   "id": "0119921e",
   "metadata": {},
   "outputs": [],
   "source": [
    "#Load\n",
    "#Load Libraries\n",
    "import pandas as pd\n",
    "import numpy as np\n",
    "import random\n",
    "from sqlalchemy import create_engine\n",
    "import pickle"
   ]
  },
  {
   "cell_type": "code",
   "execution_count": 2,
   "id": "b573d649",
   "metadata": {},
   "outputs": [],
   "source": [
    "train = pd.read_csv(\"train.csv\")\n",
    "test = pd.read_csv(\"test.csv\")"
   ]
  },
  {
   "cell_type": "code",
   "execution_count": 3,
   "id": "f69b384d",
   "metadata": {},
   "outputs": [],
   "source": [
    "#Create CSR_Matrix\n",
    "from scipy.sparse import csr_matrix\n",
    "train=train.drop_duplicates(\n",
    "['idx','game_name'])\n",
    "users_combined_pivot = train.pivot(index = 'game_name',\n",
    "                                           columns = 'idx',\n",
    "                                           values = {\"sentiment_R\", \"like_degree_2w\",\"like_degree_f\",\"price_usd\",\n",
    "                                                    \"is_free\",\"released_year\",\"Action\",\"Adventure\",\n",
    "                                                    \"Animation&Modeling\",\"Casual\",\"Design &  illustration\", \"Documentary\",\"Episodic\",\n",
    "                                                     \"Early Access\",\"Gore\", \"Indie\", \"Massively Multiplayer\", \"Movie\", \"Nudity\",\n",
    "                                                     \"Photo Editing\", \"Racing\", \"RPG\", \"Sexual Content\", \"Simulation\", \"Sports\",\n",
    "                                                     \"Strategy\", \"Utilities\", \"Video Production\", \"Webpublishing\"}).fillna(0)\n"
   ]
  },
  {
   "cell_type": "code",
   "execution_count": 4,
   "id": "e0a3ea74",
   "metadata": {},
   "outputs": [],
   "source": [
    "# load the model from disk\n",
    "filename = \"finalized_model.sav\"\n",
    "knn_model = pickle.load(open(filename, 'rb'))\n"
   ]
  },
  {
   "cell_type": "code",
   "execution_count": 8,
   "id": "f1bb7421",
   "metadata": {},
   "outputs": [],
   "source": [
    "#Randomly Get a User\n",
    "test_user = list(test['idx'])\n",
    "test_user =list(set(test_user))\n",
    "target_user = np.random.choice(test_user)\n",
    "target_gamelist = []\n",
    "user_game_t = list(zip(train.idx,train.game_name))\n",
    "for items in user_game_t:\n",
    "    if items[0] == target_user:\n",
    "        target_gamelist.append(items[1])\n",
    "\n",
    "#Get the User's Current PlayList With its Log_Playtime_2Weeks\n",
    "num_games = users_combined_pivot.shape[0]\n",
    "temp = list(zip(train.idx,zip(train.game_name,train.log_playtime_2weeks)))\n",
    "result = []\n",
    "target_gamelist_i = []\n",
    "target_log = []\n",
    "for items in target_gamelist:\n",
    "    for i in range(num_games):\n",
    "        if users_combined_pivot.index[i] == items:\n",
    "            target_gamelist_i.append((i,items))\n",
    "for items in target_gamelist:\n",
    "    for i in temp:\n",
    "        if i[1][0] == items and i[0] == target_user:\n",
    "          target_log.append((items, i[1][1]))"
   ]
  },
  {
   "cell_type": "code",
   "execution_count": 9,
   "id": "507b480d",
   "metadata": {},
   "outputs": [
    {
     "name": "stdout",
     "output_type": "stream",
     "text": [
      "\n",
      "\n",
      "\n",
      "Recommendations for Red Matter:\n",
      "\n",
      "1: Reigns: Game of Thrones, with distance of 1.0\n",
      "2: Reign Of Kings, with distance of 1.0\n",
      "3: Regency Solitaire, with distance of 1.0\n",
      "4: Reigns, with distance of 1.0\n",
      "5: Relic Hunters Legend, with distance of 1.0\n",
      "\n",
      "\n",
      "\n",
      "Recommendations for SCUM:\n",
      "\n",
      "1: Toribash, with distance of 0.9105378375010608\n",
      "2: Insurgency: Sandstorm, with distance of 0.9812343985455384\n",
      "3: Hunt: Showdown, with distance of 0.986337507212913\n",
      "4: Squad, with distance of 0.9897471640989022\n",
      "5: SteamVR, with distance of 0.9928658679590648\n",
      "\n",
      "\n",
      "\n",
      "Recommendations for SteamVR:\n",
      "\n",
      "1: The Lab, with distance of 0.9691974513603336\n",
      "2: Rec Room, with distance of 0.9742319292069277\n",
      "3: Tacopocalypse, with distance of 0.9788756933705656\n",
      "4: Creature Clicker - Capture, Train, Ascend!, with distance of 0.978960959184343\n",
      "5: Valentino Rossi The Game, with distance of 0.9789685069745258\n",
      "\n",
      "\n",
      "\n",
      "Recommendations for Vermillion:\n",
      "\n",
      "1: Reigns: Game of Thrones, with distance of 1.0\n",
      "2: Reign Of Kings, with distance of 1.0\n",
      "3: Regency Solitaire, with distance of 1.0\n",
      "4: Reigns, with distance of 1.0\n",
      "5: Relic Hunters Legend, with distance of 1.0\n"
     ]
    }
   ],
   "source": [
    "#Get the Recommendations for Each Game in User's PlayList\n",
    "for items in target_gamelist_i:\n",
    "    distances, indices = knn_model.kneighbors(\n",
    "    users_combined_pivot.iloc[items[0], : ].values.reshape(1, -1),\n",
    "    n_neighbors = 6)\n",
    "    print(\"\\n\\n\")\n",
    "    for i in range(len(distances.flatten())):\n",
    "        if (i == 0):\n",
    "            print(\"Recommendations for {}:\\n\".format(\n",
    "                users_combined_pivot.index[items[0]]))\n",
    "  \n",
    "        else:\n",
    "            print(\"{i}: {title}, with distance of {dist}\".format(i=i,\n",
    "                                                                 title=users_combined_pivot.index[indices.flatten()[i]],\n",
    "                                                                 dist=distances.flatten()[i]))\n",
    "            result.append((users_combined_pivot.index[items[0]], (users_combined_pivot.index[indices.flatten()[i]],1-distances.flatten()[i])))"
   ]
  },
  {
   "cell_type": "code",
   "execution_count": 10,
   "id": "8ac5afae",
   "metadata": {},
   "outputs": [
    {
     "name": "stdout",
     "output_type": "stream",
     "text": [
      "Recommendations for User 12643:\n",
      "\n",
      "Toribash with value 0.5970076671962709\n",
      "The Lab with value 0.20411979579258346\n",
      "Rec Room with value 0.17075773208835765\n",
      "Tacopocalypse with value 0.13998481768185198\n",
      "Creature Clicker - Capture, Train, Ascend! with value 0.1394197852002889\n"
     ]
    }
   ],
   "source": [
    "#Get Top N Recommendations\n",
    "rank = []\n",
    "for i in result:\n",
    "    for j in target_log:\n",
    "        if i[0] == j[0]:\n",
    "            rank.append((i[0],(i[1][0], i[1][1]*j[1])))\n",
    "rank.sort(reverse = True, key =lambda x: x[1][1])\n",
    "#Return Top 5 Recommendations \n",
    "print(f\"Recommendations for User {target_user}:\\n\")\n",
    "final_result = []\n",
    "for i in range(5):\n",
    "    final_result.append(rank[i][1][0])\n",
    "    print(f\"{rank[i][1][0]} with value {rank[i][1][1]}\")"
   ]
  }
 ],
 "metadata": {
  "kernelspec": {
   "display_name": "Python 3 (ipykernel)",
   "language": "python",
   "name": "python3"
  },
  "language_info": {
   "codemirror_mode": {
    "name": "ipython",
    "version": 3
   },
   "file_extension": ".py",
   "mimetype": "text/x-python",
   "name": "python",
   "nbconvert_exporter": "python",
   "pygments_lexer": "ipython3",
   "version": "3.9.7"
  }
 },
 "nbformat": 4,
 "nbformat_minor": 5
}
